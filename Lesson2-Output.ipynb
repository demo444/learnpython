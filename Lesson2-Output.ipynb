{
 "cells": [
  {
   "cell_type": "code",
   "execution_count": 1,
   "metadata": {},
   "outputs": [
    {
     "name": "stdout",
     "output_type": "stream",
     "text": [
      "Alice has\n",
      "5000\n"
     ]
    }
   ],
   "source": [
    "# This is a comment.  Everything after the '#' is ignored by Python, it's just for documentation\n",
    "\n",
    "# Assign 5000 to the variable 'alice_balance' to represent $5000 being in Alice's bank account\n",
    "alice_balance = 5000\n",
    "\n",
    "# print out the amount in Alice's bank account\n",
    "print(\"Alice has\")\n",
    "print(alice_balance)"
   ]
  },
  {
   "cell_type": "code",
   "execution_count": 2,
   "metadata": {},
   "outputs": [
    {
     "name": "stdout",
     "output_type": "stream",
     "text": [
      "Alice has $5000\n"
     ]
    }
   ],
   "source": [
    "# print everything together using .format\n",
    "# .format substitutes something for the {} symbols\n",
    "print(\"Alice has ${}\".format(alice_balance))"
   ]
  },
  {
   "cell_type": "code",
   "execution_count": 3,
   "metadata": {},
   "outputs": [
    {
     "name": "stdout",
     "output_type": "stream",
     "text": [
      "Alice has $5000 and Bob has $10000\n"
     ]
    }
   ],
   "source": [
    "# print two different things together using .format\n",
    "bob_balance = 10000\n",
    "print(\"Alice has ${} and Bob has ${}\".format(alice_balance, bob_balance))"
   ]
  },
  {
   "cell_type": "code",
   "execution_count": 4,
   "metadata": {},
   "outputs": [
    {
     "name": "stdout",
     "output_type": "stream",
     "text": [
      "Alice has $5000 and Bob has $10000 for a total of $15000\n"
     ]
    }
   ],
   "source": [
    "# add the variable 'alice_balance' to the variable 'bob_balance' and put the result in the variable 'total'\n",
    "total = alice_balance + bob_balance\n",
    "\n",
    "# print out the balances and total\n",
    "print(\"Alice has ${} and Bob has ${} for a total of ${}\".format(alice_balance, bob_balance, total))"
   ]
  },
  {
   "cell_type": "code",
   "execution_count": null,
   "metadata": {},
   "outputs": [],
   "source": []
  }
 ],
 "metadata": {
  "kernelspec": {
   "display_name": "Python 3",
   "language": "python",
   "name": "python3"
  },
  "language_info": {
   "codemirror_mode": {
    "name": "ipython",
    "version": 3
   },
   "file_extension": ".py",
   "mimetype": "text/x-python",
   "name": "python",
   "nbconvert_exporter": "python",
   "pygments_lexer": "ipython3",
   "version": "3.7.6"
  }
 },
 "nbformat": 4,
 "nbformat_minor": 4
}
