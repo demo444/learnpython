{
 "cells": [
  {
   "cell_type": "code",
   "execution_count": 1,
   "metadata": {
    "scrolled": true
   },
   "outputs": [
    {
     "name": "stdout",
     "output_type": "stream",
     "text": [
      "['On 4/14/2019 at 4:00 PM, $400 was paid to Mark.', 'On 4/17/2019 at 5:10 PM, $200 was paid to Jim.', 'On 4/15/2019 at 9:00 AM, $300 was paid to Bob.', 'On 4/14/2019 at 3:59 PM, $100 was received from Alice.', 'On 4/14/2019 at 2:30 PM, $4,000.00 was paid to Mark.', 'On 4/17/2019 at 4:00 PM, $4000 was received from bob.', 'On 6/24/2019 at 10:23 AM, $9,000 was paid to mark.', 'On 4/28/2019 at 3:05 PM, $4000 was paid to Jim.', 'On 4/19/2019 at 11:01 AM,  $9999 was received from Mark', 'On 4/21/2019 at 12:30 PM, $4000 was paid to Mark.', '', '']\n"
     ]
    }
   ],
   "source": [
    "# for this lesson, you will need to download the file at https://raw.githubusercontent.com/demo444/learnpython/master/sample.txt and put it in your python environment\n",
    "\n",
    "# include the date/time manipulation package and pandas\n",
    "import datetime\n",
    "import pandas as pd\n",
    "\n",
    "# Open the file and assign the file reader to the variable 'f'.  Read the contents of the file 'f' into the variable 'lines', split apart by line breaks.  This results in a list of lines stored in the variable 'lines'\n",
    "with open('sample.txt','r') as f:\n",
    "  lines = f.read().split(\"\\n\")\n",
    "\n",
    "print(lines)"
   ]
  },
  {
   "cell_type": "code",
   "execution_count": 2,
   "metadata": {},
   "outputs": [
    {
     "name": "stdout",
     "output_type": "stream",
     "text": [
      "4/14/2019,4:00,PM,,$400,paid,Mark.\n",
      "4/17/2019,5:10,PM,,$200,paid,Jim.\n",
      "4/15/2019,9:00,AM,,$300,paid,Bob.\n",
      "4/14/2019,3:59,PM,,$100,received,Alice.\n",
      "4/14/2019,2:30,PM,,$4,000.00,paid,Mark.\n",
      "4/17/2019,4:00,PM,,$4000,received,bob.\n",
      "6/24/2019,10:23,AM,,$9,000,paid,mark.\n",
      "4/28/2019,3:05,PM,,$4000,paid,Jim.\n",
      "4/19/2019,11:01,AM,,$9999,received,Mark\n",
      "4/21/2019,12:30,PM,,$4000,paid,Mark.\n"
     ]
    },
    {
     "ename": "IndexError",
     "evalue": "list index out of range",
     "output_type": "error",
     "traceback": [
      "\u001b[0;31m---------------------------------------------------------------------------\u001b[0m",
      "\u001b[0;31mIndexError\u001b[0m                                Traceback (most recent call last)",
      "\u001b[0;32m<ipython-input-2-b80638ca12d1>\u001b[0m in \u001b[0;36m<module>\u001b[0;34m\u001b[0m\n\u001b[1;32m      3\u001b[0m   \u001b[0mwords\u001b[0m \u001b[0;34m=\u001b[0m \u001b[0mline\u001b[0m\u001b[0;34m.\u001b[0m\u001b[0msplit\u001b[0m\u001b[0;34m(\u001b[0m\u001b[0;34m)\u001b[0m\u001b[0;34m\u001b[0m\u001b[0;34m\u001b[0m\u001b[0m\n\u001b[1;32m      4\u001b[0m \u001b[0;34m\u001b[0m\u001b[0m\n\u001b[0;32m----> 5\u001b[0;31m   \u001b[0mdate\u001b[0m \u001b[0;34m=\u001b[0m \u001b[0mwords\u001b[0m\u001b[0;34m[\u001b[0m\u001b[0;36m1\u001b[0m\u001b[0;34m]\u001b[0m\u001b[0;34m\u001b[0m\u001b[0;34m\u001b[0m\u001b[0m\n\u001b[0m\u001b[1;32m      6\u001b[0m   \u001b[0mtime\u001b[0m \u001b[0;34m=\u001b[0m \u001b[0mwords\u001b[0m\u001b[0;34m[\u001b[0m\u001b[0;36m3\u001b[0m\u001b[0;34m]\u001b[0m\u001b[0;34m\u001b[0m\u001b[0;34m\u001b[0m\u001b[0m\n\u001b[1;32m      7\u001b[0m   \u001b[0mpm\u001b[0m \u001b[0;34m=\u001b[0m \u001b[0mwords\u001b[0m\u001b[0;34m[\u001b[0m\u001b[0;36m4\u001b[0m\u001b[0;34m]\u001b[0m\u001b[0;34m\u001b[0m\u001b[0;34m\u001b[0m\u001b[0m\n",
      "\u001b[0;31mIndexError\u001b[0m: list index out of range"
     ]
    }
   ],
   "source": [
    "# For each line in the variable 'lines', split the words on each line into the variable 'words'.  Assign specific words on each line to the appropriate variables\n",
    "for line in lines:\n",
    "  words = line.split()\n",
    "\n",
    "  date = words[1]\n",
    "  time = words[3]\n",
    "  pm = words[4]\n",
    "  amount = words[5]\n",
    "  paid = words[7]\n",
    "  person = words[9]\n",
    "  \n",
    "  print(\"{},{},{},{},{},{}\".format(date, time, pm, amount, paid, person))"
   ]
  },
  {
   "cell_type": "code",
   "execution_count": 3,
   "metadata": {},
   "outputs": [
    {
     "name": "stdout",
     "output_type": "stream",
     "text": [
      "4/14/2019,4:00,PM,,$400,paid,Mark.\n",
      "4/17/2019,5:10,PM,,$200,paid,Jim.\n",
      "4/15/2019,9:00,AM,,$300,paid,Bob.\n",
      "4/14/2019,3:59,PM,,$100,received,Alice.\n",
      "4/14/2019,2:30,PM,,$4,000.00,paid,Mark.\n",
      "4/17/2019,4:00,PM,,$4000,received,bob.\n",
      "6/24/2019,10:23,AM,,$9,000,paid,mark.\n",
      "4/28/2019,3:05,PM,,$4000,paid,Jim.\n",
      "4/19/2019,11:01,AM,,$9999,received,Mark\n",
      "4/21/2019,12:30,PM,,$4000,paid,Mark.\n"
     ]
    }
   ],
   "source": [
    "# For each line in the variable 'lines', split the words on each line into the variable 'words'.  Assign specific words on each line to the appropriate variables\n",
    "for line in lines:\n",
    "  words = line.split()\n",
    "  \n",
    "# add a check to make sure it is a real line full of data\n",
    "  if len(words) < 10:\n",
    "    break\n",
    "\n",
    "  date = words[1]\n",
    "  time = words[3]\n",
    "  pm = words[4]\n",
    "  amount = words[5]\n",
    "  paid = words[7]\n",
    "  person = words[9]\n",
    "  \n",
    "  print(\"{},{},{},{},{},{}\".format(date, time, pm, amount, paid, person))"
   ]
  },
  {
   "cell_type": "code",
   "execution_count": 4,
   "metadata": {},
   "outputs": [
    {
     "name": "stdout",
     "output_type": "stream",
     "text": [
      "4/14/2019,4:00,PM,$400,paid,Mark.\n",
      "4/17/2019,5:10,PM,$200,paid,Jim.\n",
      "4/15/2019,9:00,AM,$300,paid,Bob.\n",
      "4/14/2019,3:59,PM,$100,received,Alice.\n",
      "4/14/2019,2:30,PM,$4,000.00,paid,Mark.\n",
      "4/17/2019,4:00,PM,$4000,received,bob.\n",
      "6/24/2019,10:23,AM,$9,000,paid,mark.\n",
      "4/28/2019,3:05,PM,$4000,paid,Jim.\n",
      "4/19/2019,11:01,AM,$9999,received,Mark\n",
      "4/21/2019,12:30,PM,$4000,paid,Mark.\n"
     ]
    }
   ],
   "source": [
    "# For each line in the variable 'lines', split the words on each line into the variable 'words'.  Assign specific words on each line to the appropriate variables\n",
    "for line in lines:\n",
    "  words = line.split()\n",
    "  \n",
    "  if len(words) < 10:\n",
    "    break\n",
    "\n",
    "  date = words[1]\n",
    "  time = words[3]\n",
    "  pm = words[4][0:2]   # only take letters 0 through 1 from the AM/PM string, ignoring the comma that comes after\n",
    "  amount = words[5]\n",
    "  paid = words[7]\n",
    "  person = words[9]\n",
    "  \n",
    "  print(\"{},{},{},{},{},{}\".format(date, time, pm, amount, paid, person))"
   ]
  },
  {
   "cell_type": "code",
   "execution_count": 5,
   "metadata": {},
   "outputs": [
    {
     "name": "stdout",
     "output_type": "stream",
     "text": [
      "4/14/2019,4:00,PM,400,paid,Mark.\n",
      "4/17/2019,5:10,PM,200,paid,Jim.\n",
      "4/15/2019,9:00,AM,300,paid,Bob.\n",
      "4/14/2019,3:59,PM,100,received,Alice.\n",
      "4/14/2019,2:30,PM,4,000.00,paid,Mark.\n",
      "4/17/2019,4:00,PM,4000,received,bob.\n",
      "6/24/2019,10:23,AM,9,000,paid,mark.\n",
      "4/28/2019,3:05,PM,4000,paid,Jim.\n",
      "4/19/2019,11:01,AM,9999,received,Mark\n",
      "4/21/2019,12:30,PM,4000,paid,Mark.\n"
     ]
    }
   ],
   "source": [
    "# For each line in the variable 'lines', split the words on each line into the variable 'words'.  Assign specific words on each line to the appropriate variables\n",
    "for line in lines:\n",
    "  words = line.split()\n",
    "  \n",
    "  if len(words) < 10:\n",
    "    break\n",
    "\n",
    "  date = words[1]\n",
    "  time = words[3]\n",
    "  pm = words[4][0:2]\n",
    "  amount = words[5].strip(\"$\") # remove any '$' from beginning and end of amount string\n",
    "  paid = words[7]\n",
    "  person = words[9]\n",
    "  \n",
    "  print(\"{},{},{},{},{},{}\".format(date, time, pm, amount, paid, person))"
   ]
  },
  {
   "cell_type": "code",
   "execution_count": 6,
   "metadata": {},
   "outputs": [
    {
     "name": "stdout",
     "output_type": "stream",
     "text": [
      "4/14/2019,4:00,PM,400,paid,Mark.\n",
      "4/17/2019,5:10,PM,200,paid,Jim.\n",
      "4/15/2019,9:00,AM,300,paid,Bob.\n",
      "4/14/2019,3:59,PM,100,received,Alice.\n",
      "4/14/2019,2:30,PM,4000.00,paid,Mark.\n",
      "4/17/2019,4:00,PM,4000,received,bob.\n",
      "6/24/2019,10:23,AM,9000,paid,mark.\n",
      "4/28/2019,3:05,PM,4000,paid,Jim.\n",
      "4/19/2019,11:01,AM,9999,received,Mark\n",
      "4/21/2019,12:30,PM,4000,paid,Mark.\n"
     ]
    }
   ],
   "source": [
    "# For each line in the variable 'lines', split the words on each line into the variable 'words'.  Assign specific words on each line to the appropriate variables\n",
    "for line in lines:\n",
    "  words = line.split()\n",
    "  \n",
    "  if len(words) < 10:\n",
    "    break\n",
    "\n",
    "  date = words[1]\n",
    "  time = words[3]\n",
    "  pm = words[4][0:2]\n",
    "  amount = words[5].strip(\"$\").replace(\",\", \"\") # also remove ',' from anywhere in the dollar amount\n",
    "  paid = words[7]\n",
    "  person = words[9]\n",
    "  \n",
    "  print(\"{},{},{},{},{},{}\".format(date, time, pm, amount, paid, person))"
   ]
  },
  {
   "cell_type": "code",
   "execution_count": 7,
   "metadata": {},
   "outputs": [
    {
     "name": "stdout",
     "output_type": "stream",
     "text": [
      "4/14/2019,4:00,PM,400,paid,mark.\n",
      "4/17/2019,5:10,PM,200,paid,jim.\n",
      "4/15/2019,9:00,AM,300,paid,bob.\n",
      "4/14/2019,3:59,PM,100,received,alice.\n",
      "4/14/2019,2:30,PM,4000.00,paid,mark.\n",
      "4/17/2019,4:00,PM,4000,received,bob.\n",
      "6/24/2019,10:23,AM,9000,paid,mark.\n",
      "4/28/2019,3:05,PM,4000,paid,jim.\n",
      "4/19/2019,11:01,AM,9999,received,mark\n",
      "4/21/2019,12:30,PM,4000,paid,mark.\n"
     ]
    }
   ],
   "source": [
    "# For each line in the variable 'lines', split the words on each line into the variable 'words'.  Assign specific words on each line to the appropriate variables\n",
    "for line in lines:\n",
    "  words = line.split()\n",
    "  \n",
    "  if len(words) < 10:\n",
    "    break\n",
    "\n",
    "  date = words[1]\n",
    "  time = words[3]\n",
    "  pm = words[4][0:2]\n",
    "  amount = words[5].strip(\"$\").replace(\",\", \"\")\n",
    "  paid = words[7]\n",
    "  person = words[9].lower()   # convert all names to lowercase, to ignore whether the names were capitalized\n",
    "  \n",
    "  print(\"{},{},{},{},{},{}\".format(date, time, pm, amount, paid, person))"
   ]
  },
  {
   "cell_type": "code",
   "execution_count": 8,
   "metadata": {},
   "outputs": [
    {
     "name": "stdout",
     "output_type": "stream",
     "text": [
      "4/14/2019,4:00,PM,400,paid,mark\n",
      "4/17/2019,5:10,PM,200,paid,jim\n",
      "4/15/2019,9:00,AM,300,paid,bob\n",
      "4/14/2019,3:59,PM,100,received,alice\n",
      "4/14/2019,2:30,PM,4000.00,paid,mark\n",
      "4/17/2019,4:00,PM,4000,received,bob\n",
      "6/24/2019,10:23,AM,9000,paid,mark\n",
      "4/28/2019,3:05,PM,4000,paid,jim\n",
      "4/19/2019,11:01,AM,9999,received,mark\n",
      "4/21/2019,12:30,PM,4000,paid,mark\n"
     ]
    }
   ],
   "source": [
    "# For each line in the variable 'lines', split the words on each line into the variable 'words'.  Assign specific words on each line to the appropriate variables\n",
    "for line in lines:\n",
    "  words = line.split()\n",
    "  \n",
    "  if len(words) < 10:\n",
    "    break\n",
    "\n",
    "  date = words[1]\n",
    "  time = words[3]\n",
    "  pm = words[4][0:2]\n",
    "  amount = words[5].strip(\"$\").replace(\",\", \"\")\n",
    "  paid = words[7]\n",
    "  person = words[9].lower().strip('.')   # also remove trailing '.'\n",
    "  \n",
    "  print(\"{},{},{},{},{},{}\".format(date, time, pm, amount, paid, person))"
   ]
  },
  {
   "cell_type": "code",
   "execution_count": 9,
   "metadata": {},
   "outputs": [
    {
     "name": "stdout",
     "output_type": "stream",
     "text": [
      "2019-04-14,16:00:00,400,paid,mark\n",
      "2019-04-17,17:10:00,200,paid,jim\n",
      "2019-04-15,09:00:00,300,paid,bob\n",
      "2019-04-14,15:59:00,100,received,alice\n",
      "2019-04-14,14:30:00,4000.00,paid,mark\n",
      "2019-04-17,16:00:00,4000,received,bob\n",
      "2019-06-24,10:23:00,9000,paid,mark\n",
      "2019-04-28,15:05:00,4000,paid,jim\n",
      "2019-04-19,11:01:00,9999,received,mark\n",
      "2019-04-21,12:30:00,4000,paid,mark\n"
     ]
    }
   ],
   "source": [
    "# For each line in the variable 'lines', split the words on each line into the variable 'words'.  Assign specific words on each line to the appropriate variables\n",
    "for line in lines:\n",
    "  words = line.split()\n",
    "  \n",
    "  if len(words) < 10:\n",
    "    break\n",
    "\n",
    "  date = words[1]\n",
    "  time = words[3]\n",
    "  pm = words[4][0:2]\n",
    "  amount = words[5].strip(\"$\").replace(\",\", \"\")\n",
    "  paid = words[7]\n",
    "  person = words[9].lower().strip('.')   # also remove trailing '.'\n",
    "  \n",
    "  # convert the date, time, and pm variables into a datetime number stored in the variable 'dt'\n",
    "  dt = datetime.datetime.strptime(\"{} {} {}\".format(date, time, pm), \"%m/%d/%Y %I:%M %p\")\n",
    "\n",
    "  # print only the stored date and time numbers instead of the text from those columns in the original file\n",
    "  print(\"{},{},{},{},{}\".format(dt.date(), dt.time(), amount, paid, person))\n"
   ]
  },
  {
   "cell_type": "code",
   "execution_count": 10,
   "metadata": {},
   "outputs": [
    {
     "name": "stdout",
     "output_type": "stream",
     "text": [
      "2019-04-14,16:00:00,400,paid,mark\n",
      "2019-04-17,17:10:00,200,paid,jim\n",
      "2019-04-15,09:00:00,300,paid,bob\n",
      "2019-04-14,15:59:00,100,received,alice\n",
      "2019-04-14,14:30:00,4000.00,paid,mark\n",
      "2019-04-17,16:00:00,4000,received,bob\n",
      "2019-06-24,10:23:00,9000,paid,mark\n",
      "2019-04-28,15:05:00,4000,paid,jim\n",
      "2019-04-19,11:01:00,9999,received,mark\n",
      "2019-04-21,12:30:00,4000,paid,mark\n",
      "[{'date': datetime.date(2019, 4, 14), 'time': datetime.time(16, 0), 'amount': '400', 'paid': 'paid', 'person': 'mark'}, {'date': datetime.date(2019, 4, 17), 'time': datetime.time(17, 10), 'amount': '200', 'paid': 'paid', 'person': 'jim'}, {'date': datetime.date(2019, 4, 15), 'time': datetime.time(9, 0), 'amount': '300', 'paid': 'paid', 'person': 'bob'}, {'date': datetime.date(2019, 4, 14), 'time': datetime.time(15, 59), 'amount': '100', 'paid': 'received', 'person': 'alice'}, {'date': datetime.date(2019, 4, 14), 'time': datetime.time(14, 30), 'amount': '4000.00', 'paid': 'paid', 'person': 'mark'}, {'date': datetime.date(2019, 4, 17), 'time': datetime.time(16, 0), 'amount': '4000', 'paid': 'received', 'person': 'bob'}, {'date': datetime.date(2019, 6, 24), 'time': datetime.time(10, 23), 'amount': '9000', 'paid': 'paid', 'person': 'mark'}, {'date': datetime.date(2019, 4, 28), 'time': datetime.time(15, 5), 'amount': '4000', 'paid': 'paid', 'person': 'jim'}, {'date': datetime.date(2019, 4, 19), 'time': datetime.time(11, 1), 'amount': '9999', 'paid': 'received', 'person': 'mark'}, {'date': datetime.date(2019, 4, 21), 'time': datetime.time(12, 30), 'amount': '4000', 'paid': 'paid', 'person': 'mark'}]\n"
     ]
    }
   ],
   "source": [
    "# now, let's put it all together, and store each processed row of data in the variable 'rows'\n",
    "\n",
    "# Create an empty list to store the rows of data in variable 'rows'\n",
    "rows = []\n",
    "\n",
    "# For each line in the variable 'lines', split the words on each line into the variable 'words'.  Assign specific words on each line to the appropriate variables\n",
    "for line in lines:\n",
    "  words = line.split()\n",
    "  if len(words) < 10:\n",
    "    break\n",
    "  date = words[1]\n",
    "  time = words[3]\n",
    "  pm = words[4][0:2]   # only take letters 0 through 1 from the AM/PM string, ignoring the comma that comes after\n",
    "  amount = words[5].strip(\"$\").replace(\",\", \"\") # remove '$' from beginning and any ',' from anywhere in the dollar amount\n",
    "  paid = words[7]\n",
    "  person = words[9].lower().strip('.')   # convert all names to lowercase, to ignore whether the names were capitalized, and remove trailing '.'\n",
    "  \n",
    "  # convert the date, time, and pm variables into a datetime number stored in the variable 'dt'\n",
    "  dt = datetime.datetime.strptime(\"{} {} {}\".format(date, time, pm), \"%m/%d/%Y %I:%M %p\")\n",
    "\n",
    "  print(\"{},{},{},{},{}\".format(dt.date(), dt.time(), amount, paid, person))\n",
    "\n",
    "  # add this data row to the end of variable 'rows'\n",
    "  rows.append({'date': dt.date(), 'time': dt.time(), 'amount': amount, 'paid': paid, 'person': person})\n",
    "\n",
    "# see more commands you can use with strings at https://www.w3schools.com/python/python_ref_string.asp\n",
    "print(rows)"
   ]
  },
  {
   "cell_type": "code",
   "execution_count": 11,
   "metadata": {},
   "outputs": [
    {
     "name": "stdout",
     "output_type": "stream",
     "text": [
      "         date      time   amount      paid person\n",
      "0  2019-04-14  16:00:00      400      paid   mark\n",
      "1  2019-04-17  17:10:00      200      paid    jim\n",
      "2  2019-04-15  09:00:00      300      paid    bob\n",
      "3  2019-04-14  15:59:00      100  received  alice\n",
      "4  2019-04-14  14:30:00  4000.00      paid   mark\n",
      "5  2019-04-17  16:00:00     4000  received    bob\n",
      "6  2019-06-24  10:23:00     9000      paid   mark\n",
      "7  2019-04-28  15:05:00     4000      paid    jim\n",
      "8  2019-04-19  11:01:00     9999  received   mark\n",
      "9  2019-04-21  12:30:00     4000      paid   mark\n"
     ]
    }
   ],
   "source": [
    "# build a pandas DataFrame out of rows, and store it in variable 'df'\n",
    "df = pd.DataFrame(rows)\n",
    "\n",
    "# print the data frame\n",
    "print(df)"
   ]
  },
  {
   "cell_type": "code",
   "execution_count": 12,
   "metadata": {},
   "outputs": [
    {
     "name": "stdout",
     "output_type": "stream",
     "text": [
      "         date      time   amount      paid person\n",
      "0  2019-04-14  16:00:00      400      paid   mark\n",
      "3  2019-04-14  15:59:00      100  received  alice\n",
      "4  2019-04-14  14:30:00  4000.00      paid   mark\n",
      "2  2019-04-15  09:00:00      300      paid    bob\n",
      "1  2019-04-17  17:10:00      200      paid    jim\n",
      "5  2019-04-17  16:00:00     4000  received    bob\n",
      "8  2019-04-19  11:01:00     9999  received   mark\n",
      "9  2019-04-21  12:30:00     4000      paid   mark\n",
      "7  2019-04-28  15:05:00     4000      paid    jim\n",
      "6  2019-06-24  10:23:00     9000      paid   mark\n"
     ]
    }
   ],
   "source": [
    "# sort records by transaction date\n",
    "print(df.sort_values(by='date'))"
   ]
  },
  {
   "cell_type": "code",
   "execution_count": 13,
   "metadata": {},
   "outputs": [
    {
     "name": "stdout",
     "output_type": "stream",
     "text": [
      "         date      time   amount      paid person\n",
      "4  2019-04-14  14:30:00  4000.00      paid   mark\n",
      "3  2019-04-14  15:59:00      100  received  alice\n",
      "0  2019-04-14  16:00:00      400      paid   mark\n",
      "2  2019-04-15  09:00:00      300      paid    bob\n",
      "5  2019-04-17  16:00:00     4000  received    bob\n",
      "1  2019-04-17  17:10:00      200      paid    jim\n",
      "8  2019-04-19  11:01:00     9999  received   mark\n",
      "9  2019-04-21  12:30:00     4000      paid   mark\n",
      "7  2019-04-28  15:05:00     4000      paid    jim\n",
      "6  2019-06-24  10:23:00     9000      paid   mark\n"
     ]
    }
   ],
   "source": [
    "# sort records by transaction date, then time\n",
    "print(df.sort_values(by=['date', 'time']))"
   ]
  },
  {
   "cell_type": "code",
   "execution_count": 14,
   "metadata": {},
   "outputs": [],
   "source": [
    "# export cleaned data to a CSV file\n",
    "df.to_csv('clean_data.csv')"
   ]
  },
  {
   "cell_type": "code",
   "execution_count": null,
   "metadata": {},
   "outputs": [],
   "source": []
  }
 ],
 "metadata": {
  "kernelspec": {
   "display_name": "Python 3",
   "language": "python",
   "name": "python3"
  },
  "language_info": {
   "codemirror_mode": {
    "name": "ipython",
    "version": 3
   },
   "file_extension": ".py",
   "mimetype": "text/x-python",
   "name": "python",
   "nbconvert_exporter": "python",
   "pygments_lexer": "ipython3",
   "version": "3.7.6"
  }
 },
 "nbformat": 4,
 "nbformat_minor": 4
}
