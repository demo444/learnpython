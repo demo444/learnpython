{
 "cells": [
  {
   "cell_type": "code",
   "execution_count": 1,
   "metadata": {},
   "outputs": [
    {
     "name": "stdout",
     "output_type": "stream",
     "text": [
      "         date     county       state     fips  cases  deaths\n",
      "0  2020-01-21  Snohomish  Washington  53061.0      1       0\n",
      "1  2020-01-22  Snohomish  Washington  53061.0      1       0\n",
      "2  2020-01-23  Snohomish  Washington  53061.0      1       0\n"
     ]
    }
   ],
   "source": [
    "import numpy as np\n",
    "import pandas as pd\n",
    "\n",
    "url = \"https://raw.githubusercontent.com/nytimes/covid-19-data/master/us-counties.csv\"\n",
    "\n",
    "# read the specified url as a csv file, and create a pandas DataFrame variable 'cov' that contains the resulting data\n",
    "cov = pd.read_csv(url, sep=',')\n",
    "\n",
    "# print the first 3 rows\n",
    "print(cov.head(3))"
   ]
  },
  {
   "cell_type": "code",
   "execution_count": 2,
   "metadata": {},
   "outputs": [
    {
     "name": "stdout",
     "output_type": "stream",
     "text": [
      "<class 'pandas.core.frame.DataFrame'>\n",
      "RangeIndex: 86952 entries, 0 to 86951\n",
      "Data columns (total 6 columns):\n",
      " #   Column  Non-Null Count  Dtype  \n",
      "---  ------  --------------  -----  \n",
      " 0   date    86952 non-null  object \n",
      " 1   county  86952 non-null  object \n",
      " 2   state   86952 non-null  object \n",
      " 3   fips    85882 non-null  float64\n",
      " 4   cases   86952 non-null  int64  \n",
      " 5   deaths  86952 non-null  int64  \n",
      "dtypes: float64(1), int64(2), object(3)\n",
      "memory usage: 4.0+ MB\n",
      "None\n"
     ]
    }
   ],
   "source": [
    "# print some statistics about the data read into 'cov'\n",
    "print(cov.info())"
   ]
  },
  {
   "cell_type": "code",
   "execution_count": 3,
   "metadata": {},
   "outputs": [
    {
     "name": "stdout",
     "output_type": "stream",
     "text": [
      "<class 'pandas.core.frame.DataFrame'>\n",
      "RangeIndex: 86952 entries, 0 to 86951\n",
      "Data columns (total 6 columns):\n",
      " #   Column  Non-Null Count  Dtype         \n",
      "---  ------  --------------  -----         \n",
      " 0   date    86952 non-null  datetime64[ns]\n",
      " 1   county  86952 non-null  object        \n",
      " 2   state   86952 non-null  object        \n",
      " 3   fips    85882 non-null  float64       \n",
      " 4   cases   86952 non-null  int64         \n",
      " 5   deaths  86952 non-null  int64         \n",
      "dtypes: datetime64[ns](1), float64(1), int64(2), object(2)\n",
      "memory usage: 4.0+ MB\n",
      "None\n"
     ]
    }
   ],
   "source": [
    "# convert date column from strings to actual date data types\n",
    "cov[\"date\"] = pd.to_datetime(cov[\"date\"])\n",
    "print(cov.info())"
   ]
  },
  {
   "cell_type": "code",
   "execution_count": 4,
   "metadata": {},
   "outputs": [
    {
     "name": "stdout",
     "output_type": "stream",
     "text": [
      "-----\n",
      "        date     county       state  cases  deaths\n",
      "0 2020-01-21  Snohomish  Washington      1       0\n",
      "1 2020-01-22  Snohomish  Washington      1       0\n",
      "2 2020-01-23  Snohomish  Washington      1       0\n"
     ]
    }
   ],
   "source": [
    "# print a line between output for readability\n",
    "print('-----')\n",
    "\n",
    "# delete unnecessary column\n",
    "cov.drop(columns=\"fips\", inplace=True)\n",
    "\n",
    "# print the first 3 rows (without the 'fips' column)\n",
    "print(cov.head(3))"
   ]
  },
  {
   "cell_type": "code",
   "execution_count": 5,
   "metadata": {},
   "outputs": [
    {
     "name": "stdout",
     "output_type": "stream",
     "text": [
      "               cases        deaths\n",
      "count   86952.000000  86952.000000\n",
      "mean      167.740098      6.849446\n",
      "std      2027.119452    127.391531\n",
      "min         0.000000      0.000000\n",
      "25%         2.000000      0.000000\n",
      "50%         8.000000      0.000000\n",
      "75%        35.000000      1.000000\n",
      "max    150484.000000  11157.000000\n"
     ]
    }
   ],
   "source": [
    "# print some statistics about the data read into 'cov'\n",
    "print(cov.describe())"
   ]
  },
  {
   "cell_type": "code",
   "execution_count": 6,
   "metadata": {},
   "outputs": [
    {
     "name": "stdout",
     "output_type": "stream",
     "text": [
      "            county  state\n",
      "count        86952  86952\n",
      "unique        1669     55\n",
      "top     Washington  Texas\n",
      "freq          1042   5461\n"
     ]
    }
   ],
   "source": [
    "# to get statistics on the columns of type 'object', we need to explicitly include that type, otherwise describe will only provide statistics on the numerical columns by default\n",
    "print(cov.describe(include=np.object))"
   ]
  },
  {
   "cell_type": "code",
   "execution_count": 7,
   "metadata": {},
   "outputs": [
    {
     "name": "stdout",
     "output_type": "stream",
     "text": [
      "['Washington' 'Illinois' 'California' 'Arizona' 'Massachusetts'\n",
      " 'Wisconsin' 'Texas' 'Nebraska' 'Utah' 'Oregon' 'Florida' 'New York'\n",
      " 'Rhode Island' 'Georgia' 'New Hampshire' 'North Carolina' 'New Jersey'\n",
      " 'Colorado' 'Maryland' 'Nevada' 'Tennessee' 'Hawaii' 'Indiana' 'Kentucky'\n",
      " 'Minnesota' 'Oklahoma' 'Pennsylvania' 'South Carolina'\n",
      " 'District of Columbia' 'Kansas' 'Missouri' 'Vermont' 'Virginia'\n",
      " 'Connecticut' 'Iowa' 'Louisiana' 'Ohio' 'Michigan' 'South Dakota'\n",
      " 'Arkansas' 'Delaware' 'Mississippi' 'New Mexico' 'North Dakota' 'Wyoming'\n",
      " 'Alaska' 'Maine' 'Alabama' 'Idaho' 'Montana' 'Puerto Rico'\n",
      " 'Virgin Islands' 'Guam' 'West Virginia' 'Northern Mariana Islands']\n"
     ]
    }
   ],
   "source": [
    "# print all the unique values for the 'state' column\n",
    "print(cov[\"state\"].unique())"
   ]
  },
  {
   "cell_type": "code",
   "execution_count": 8,
   "metadata": {},
   "outputs": [
    {
     "name": "stdout",
     "output_type": "stream",
     "text": [
      "['Alabama' 'Alaska' 'Arizona' 'Arkansas' 'California' 'Colorado'\n",
      " 'Connecticut' 'Delaware' 'District of Columbia' 'Florida' 'Georgia'\n",
      " 'Guam' 'Hawaii' 'Idaho' 'Illinois' 'Indiana' 'Iowa' 'Kansas' 'Kentucky'\n",
      " 'Louisiana' 'Maine' 'Maryland' 'Massachusetts' 'Michigan' 'Minnesota'\n",
      " 'Mississippi' 'Missouri' 'Montana' 'Nebraska' 'Nevada' 'New Hampshire'\n",
      " 'New Jersey' 'New Mexico' 'New York' 'North Carolina' 'North Dakota'\n",
      " 'Northern Mariana Islands' 'Ohio' 'Oklahoma' 'Oregon' 'Pennsylvania'\n",
      " 'Puerto Rico' 'Rhode Island' 'South Carolina' 'South Dakota' 'Tennessee'\n",
      " 'Texas' 'Utah' 'Vermont' 'Virgin Islands' 'Virginia' 'Washington'\n",
      " 'West Virginia' 'Wisconsin' 'Wyoming']\n"
     ]
    }
   ],
   "source": [
    "# sort these values in alphabetical order\n",
    "print(np.sort(cov[\"state\"].unique()))"
   ]
  },
  {
   "cell_type": "code",
   "execution_count": 9,
   "metadata": {},
   "outputs": [
    {
     "name": "stdout",
     "output_type": "stream",
     "text": [
      "            date  county     state  cases  deaths\n",
      "1133  2020-03-10  Dallas     Texas      2       0\n",
      "1329  2020-03-11  Dallas     Texas      3       0\n",
      "1576  2020-03-12  Dallas     Texas      8       0\n",
      "1881  2020-03-13  Dallas     Texas      9       0\n",
      "2059  2020-03-14  Dallas      Iowa      1       0\n",
      "...          ...     ...       ...    ...     ...\n",
      "84166 2020-04-24  Dallas   Alabama     32       2\n",
      "84256 2020-04-24  Dallas  Arkansas      1       0\n",
      "84908 2020-04-24  Dallas      Iowa     99       0\n",
      "85547 2020-04-24  Dallas  Missouri      2       0\n",
      "86450 2020-04-24  Dallas     Texas   2834      77\n",
      "\n",
      "[158 rows x 5 columns]\n"
     ]
    }
   ],
   "source": [
    "# create a new variable dalCases that contains only the data for Dallas County\n",
    "dalCases = cov[(cov[\"county\"] == \"Dallas\")]\n",
    "print(dalCases)"
   ]
  },
  {
   "cell_type": "code",
   "execution_count": 10,
   "metadata": {},
   "outputs": [
    {
     "name": "stdout",
     "output_type": "stream",
     "text": [
      "            date  county  state  cases  deaths\n",
      "1133  2020-03-10  Dallas  Texas      2       0\n",
      "1329  2020-03-11  Dallas  Texas      3       0\n",
      "1576  2020-03-12  Dallas  Texas      8       0\n",
      "1881  2020-03-13  Dallas  Texas      9       0\n",
      "2247  2020-03-14  Dallas  Texas     11       0\n",
      "2672  2020-03-15  Dallas  Texas     14       0\n",
      "3140  2020-03-16  Dallas  Texas     14       0\n",
      "3674  2020-03-17  Dallas  Texas     23       0\n",
      "4297  2020-03-18  Dallas  Texas     34       0\n",
      "5050  2020-03-19  Dallas  Texas     56       1\n",
      "5941  2020-03-20  Dallas  Texas     74       1\n",
      "6960  2020-03-21  Dallas  Texas     95       1\n",
      "8090  2020-03-22  Dallas  Texas    132       2\n",
      "9309  2020-03-23  Dallas  Texas    159       2\n",
      "10651 2020-03-24  Dallas  Texas    169       5\n",
      "12140 2020-03-25  Dallas  Texas    169       6\n",
      "13780 2020-03-26  Dallas  Texas    303       7\n",
      "15544 2020-03-27  Dallas  Texas    367       7\n",
      "17425 2020-03-28  Dallas  Texas    439       9\n",
      "19389 2020-03-29  Dallas  Texas    443       9\n",
      "21459 2020-03-30  Dallas  Texas    549      11\n",
      "23613 2020-03-31  Dallas  Texas    631      13\n",
      "25832 2020-04-01  Dallas  Texas    731      15\n",
      "28108 2020-04-02  Dallas  Texas    831      17\n",
      "30442 2020-04-03  Dallas  Texas    921      17\n",
      "32837 2020-04-04  Dallas  Texas   1015      18\n",
      "35278 2020-04-05  Dallas  Texas   1112      18\n",
      "37757 2020-04-06  Dallas  Texas   1155      18\n",
      "40279 2020-04-07  Dallas  Texas   1261      19\n",
      "42838 2020-04-08  Dallas  Texas   1324      20\n",
      "45421 2020-04-09  Dallas  Texas   1432      22\n",
      "48040 2020-04-10  Dallas  Texas   1537      25\n",
      "50695 2020-04-11  Dallas  Texas   1648      27\n",
      "53371 2020-04-12  Dallas  Texas   1723      31\n",
      "56061 2020-04-13  Dallas  Texas   1788      32\n",
      "58765 2020-04-14  Dallas  Texas   1877      42\n",
      "61485 2020-04-15  Dallas  Texas   1986      43\n",
      "64214 2020-04-16  Dallas  Texas   2066      50\n",
      "66963 2020-04-17  Dallas  Texas   2190      55\n",
      "69723 2020-04-18  Dallas  Texas   2324      60\n",
      "72491 2020-04-19  Dallas  Texas   2428      60\n",
      "75268 2020-04-20  Dallas  Texas   2512      60\n",
      "78050 2020-04-21  Dallas  Texas   2602      64\n",
      "80842 2020-04-22  Dallas  Texas   2683      65\n",
      "83644 2020-04-23  Dallas  Texas   2763      72\n",
      "86450 2020-04-24  Dallas  Texas   2834      77\n"
     ]
    }
   ],
   "source": [
    "# create a new variable dalCases that contains only the data for Dallas County in TEXAS\n",
    "dalCases = cov[(cov[\"county\"] == \"Dallas\") & (cov[\"state\"] == \"Texas\")]\n",
    "print(dalCases)"
   ]
  },
  {
   "cell_type": "code",
   "execution_count": 11,
   "metadata": {},
   "outputs": [
    {
     "data": {
      "text/plain": [
       "Text(0, 0.5, 'Number of People')"
      ]
     },
     "execution_count": 11,
     "metadata": {},
     "output_type": "execute_result"
    },
    {
     "data": {
      "image/png": "[encoded data removed]",
      "text/plain": [
       "<Figure size 432x288 with 1 Axes>"
      ]
     },
     "metadata": {
      "needs_background": "light"
     },
     "output_type": "display_data"
    }
   ],
   "source": [
    "# import the plotting library\n",
    "import matplotlib.pyplot as plt\n",
    "\n",
    "# plot the cases and deaths in the county by date\n",
    "dalCases.plot(x='date', y=['cases','deaths'])\n",
    "plt.xlabel('Date')\n",
    "plt.ylabel('Number of People')"
   ]
  },
  {
   "cell_type": "code",
   "execution_count": 12,
   "metadata": {},
   "outputs": [
    {
     "data": {
      "text/plain": [
       "<Figure size 432x288 with 0 Axes>"
      ]
     },
     "metadata": {},
     "output_type": "display_data"
    }
   ],
   "source": [
    "# save the plot to a file - may not work properly in Jupyter\n",
    "plt.savefig('graph.png')"
   ]
  }
 ],
 "metadata": {
  "kernelspec": {
   "display_name": "Python 3",
   "language": "python",
   "name": "python3"
  },
  "language_info": {
   "codemirror_mode": {
    "name": "ipython",
    "version": 3
   },
   "file_extension": ".py",
   "mimetype": "text/x-python",
   "name": "python",
   "nbconvert_exporter": "python",
   "pygments_lexer": "ipython3",
   "version": "3.7.6"
  }
 },
 "nbformat": 4,
 "nbformat_minor": 4
}
