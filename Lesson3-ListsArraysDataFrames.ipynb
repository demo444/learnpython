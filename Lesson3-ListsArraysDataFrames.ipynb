{
 "cells": [
  {
   "cell_type": "code",
   "execution_count": 1,
   "metadata": {},
   "outputs": [
    {
     "name": "stdout",
     "output_type": "stream",
     "text": [
      "[240, 530, 350, 230, 420, 240, 1200]\n"
     ]
    }
   ],
   "source": [
    "# create a list of 7 amounts and assign it to variable 'l'\n",
    "l = [240,530,350,230,420,240,1200]\n",
    "\n",
    "# print the whole list\n",
    "print(l)"
   ]
  },
  {
   "cell_type": "code",
   "execution_count": 2,
   "metadata": {},
   "outputs": [
    {
     "name": "stdout",
     "output_type": "stream",
     "text": [
      "240\n"
     ]
    }
   ],
   "source": [
    "# print the first item (python always counts from 0, not 1!)\n",
    "print(l[0])"
   ]
  },
  {
   "cell_type": "code",
   "execution_count": 3,
   "metadata": {},
   "outputs": [
    {
     "name": "stdout",
     "output_type": "stream",
     "text": [
      "1200\n"
     ]
    }
   ],
   "source": [
    "# print the 6th item (remember the 7 items in the list are numbered 0 through 6, so item 6 is the last item)\n",
    "print(l[6])"
   ]
  },
  {
   "cell_type": "code",
   "execution_count": 4,
   "metadata": {},
   "outputs": [
    {
     "name": "stdout",
     "output_type": "stream",
     "text": [
      "There are 7 items\n"
     ]
    }
   ],
   "source": [
    "# print the number of items\n",
    "print(\"There are {} items\".format(len(l)))"
   ]
  },
  {
   "cell_type": "code",
   "execution_count": 5,
   "metadata": {},
   "outputs": [
    {
     "name": "stdout",
     "output_type": "stream",
     "text": [
      "----\n",
      "240\n",
      "530\n",
      "350\n",
      "230\n",
      "420\n",
      "240\n",
      "1200\n"
     ]
    }
   ],
   "source": [
    "# print each item in the list 'l', one line at a time\n",
    "print(\"----\")\n",
    "for amount in l:\n",
    "  print(amount)"
   ]
  },
  {
   "cell_type": "code",
   "execution_count": 6,
   "metadata": {},
   "outputs": [
    {
     "name": "stdout",
     "output_type": "stream",
     "text": [
      "----\n",
      "530\n",
      "350\n"
     ]
    }
   ],
   "source": [
    "# print items starting at 1 and stopping before 3 (so, item 1 & 2) in the list 'l', one line at a time\n",
    "print(\"----\")\n",
    "for i in range(1,3):\n",
    "  print(l[i])"
   ]
  },
  {
   "cell_type": "code",
   "execution_count": 7,
   "metadata": {},
   "outputs": [
    {
     "name": "stdout",
     "output_type": "stream",
     "text": [
      "[530, 350]\n"
     ]
    }
   ],
   "source": [
    "# print just the part of the list including item 1 & 2\n",
    "print(l[1:3])"
   ]
  },
  {
   "cell_type": "code",
   "execution_count": 8,
   "metadata": {},
   "outputs": [
    {
     "name": "stdout",
     "output_type": "stream",
     "text": [
      "The brown fox.\n",
      "The string is: The brown fox.\n"
     ]
    }
   ],
   "source": [
    "# print a string\n",
    "s = \"The brown fox.\"\n",
    "print(s)\n",
    "print(\"The string is: {}\".format(s))"
   ]
  },
  {
   "cell_type": "code",
   "execution_count": 9,
   "metadata": {},
   "outputs": [
    {
     "name": "stdout",
     "output_type": "stream",
     "text": [
      "The string starts with 'T' and the middle is 'brown'\n"
     ]
    }
   ],
   "source": [
    "# print the first item and the middle letters 4 through 8 of the string (remember, always count from 0!)\n",
    "print(\"The string starts with '{}' and the middle is '{}'\".format(s[0], s[4:9]))"
   ]
  },
  {
   "cell_type": "code",
   "execution_count": 10,
   "metadata": {},
   "outputs": [
    {
     "name": "stdout",
     "output_type": "stream",
     "text": [
      "[ 240  530  350  230  420  240 1200]\n"
     ]
    }
   ],
   "source": [
    "# we must first include the numpy and pandas python packages, for manipulating arrays and DataFrames\n",
    "import numpy as np\n",
    "import pandas as pd\n",
    "\n",
    "# turn our list into numpy array\n",
    "a = np.array(l)\n",
    "print(a)"
   ]
  },
  {
   "cell_type": "code",
   "execution_count": 11,
   "metadata": {},
   "outputs": [
    {
     "name": "stdout",
     "output_type": "stream",
     "text": [
      "The sum is 3210\n"
     ]
    }
   ],
   "source": [
    "# print the sum of the new array\n",
    "print(\"The sum is {}\".format(np.sum(a)))"
   ]
  },
  {
   "cell_type": "code",
   "execution_count": 12,
   "metadata": {},
   "outputs": [
    {
     "name": "stdout",
     "output_type": "stream",
     "text": [
      "[ 230  240  240  350  420  530 1200]\n"
     ]
    }
   ],
   "source": [
    "# sort the array, store it in the variable 'sorta', and print the sorted array\n",
    "sorta = np.sort(a)\n",
    "print(sorta)"
   ]
  },
  {
   "cell_type": "code",
   "execution_count": 13,
   "metadata": {},
   "outputs": [
    {
     "name": "stdout",
     "output_type": "stream",
     "text": [
      "      0\n",
      "0   240\n",
      "1   530\n",
      "2   350\n",
      "3   230\n",
      "4   420\n",
      "5   240\n",
      "6  1200\n"
     ]
    }
   ],
   "source": [
    "# make a pandas DataFrame from the numpy array 'a'\n",
    "df = pd.DataFrame(a)\n",
    "print(df)"
   ]
  },
  {
   "cell_type": "code",
   "execution_count": 14,
   "metadata": {},
   "outputs": [
    {
     "name": "stdout",
     "output_type": "stream",
     "text": [
      "      0\n",
      "0   240\n",
      "1   530\n",
      "2   350\n",
      "3   230\n",
      "4   420\n",
      "5   240\n",
      "6  1200\n"
     ]
    }
   ],
   "source": [
    "# make a pandas DataFrame from the original list 'l'\n",
    "df = pd.DataFrame(l)\n",
    "print(df)"
   ]
  },
  {
   "cell_type": "code",
   "execution_count": 15,
   "metadata": {},
   "outputs": [
    {
     "name": "stdout",
     "output_type": "stream",
     "text": [
      "            0    1    2     3      4     5      6\n",
      "Amount    240  530  350   230    420   240   1200\n",
      "Person  alice  bob  jim  mark  alice  mark  alice\n"
     ]
    }
   ],
   "source": [
    "# make a 2-D pandas DataFrame from multiple lists\n",
    "listOfNames = ['alice', 'bob', 'jim', 'mark', 'alice', 'mark', 'alice']\n",
    "df = pd.DataFrame([l, listOfNames], index=['Amount', 'Person'])\n",
    "print(df)"
   ]
  },
  {
   "cell_type": "code",
   "execution_count": 16,
   "metadata": {},
   "outputs": [
    {
     "name": "stdout",
     "output_type": "stream",
     "text": [
      "  Amount Person\n",
      "0    240  alice\n",
      "1    530    bob\n",
      "2    350    jim\n",
      "3    230   mark\n",
      "4    420  alice\n",
      "5    240   mark\n",
      "6   1200  alice\n"
     ]
    }
   ],
   "source": [
    "# transpose rows and columns\n",
    "df = df.T\n",
    "print(df)"
   ]
  },
  {
   "cell_type": "code",
   "execution_count": 17,
   "metadata": {},
   "outputs": [
    {
     "name": "stdout",
     "output_type": "stream",
     "text": [
      "        Amount Person\n",
      "count        7      7\n",
      "unique       6      4\n",
      "top        240  alice\n",
      "freq         2      3\n"
     ]
    }
   ],
   "source": [
    "# print summary of DataFrame\n",
    "print(df.describe())"
   ]
  },
  {
   "cell_type": "code",
   "execution_count": 18,
   "metadata": {},
   "outputs": [
    {
     "name": "stdout",
     "output_type": "stream",
     "text": [
      "Row 2, Column 1 is: jim\n",
      "\n"
     ]
    }
   ],
   "source": [
    "# print row 2, column 1 (counting from 0!)\n",
    "print(\"Row 2, Column 1 is: {}\\n\".format(df.iloc[2, 1]))"
   ]
  },
  {
   "cell_type": "code",
   "execution_count": 19,
   "metadata": {},
   "outputs": [
    {
     "name": "stdout",
     "output_type": "stream",
     "text": [
      "  Amount Person\n",
      "6   1200  alice\n",
      "1    530    bob\n",
      "4    420  alice\n",
      "2    350    jim\n",
      "0    240  alice\n",
      "5    240   mark\n",
      "3    230   mark\n"
     ]
    }
   ],
   "source": [
    "# print DataFrame sorted by amount, from highest to lowest\n",
    "print(df.sort_values(by='Amount', ascending=False))"
   ]
  },
  {
   "cell_type": "code",
   "execution_count": 20,
   "metadata": {},
   "outputs": [
    {
     "name": "stdout",
     "output_type": "stream",
     "text": [
      "---------\n",
      "Just person column:\n",
      "0    alice\n",
      "1      bob\n",
      "2      jim\n",
      "3     mark\n",
      "4    alice\n",
      "5     mark\n",
      "6    alice\n",
      "Name: Person, dtype: object\n"
     ]
    }
   ],
   "source": [
    "# print just the column of people from the DataFrame\n",
    "print(\"---------\\nJust person column:\")\n",
    "print(df['Person'])"
   ]
  },
  {
   "cell_type": "code",
   "execution_count": 21,
   "metadata": {},
   "outputs": [
    {
     "name": "stdout",
     "output_type": "stream",
     "text": [
      "alice    3\n",
      "mark     2\n",
      "bob      1\n",
      "jim      1\n",
      "Name: Person, dtype: int64\n"
     ]
    }
   ],
   "source": [
    "# print the number of transactions of each person\n",
    "print(df['Person'].value_counts())"
   ]
  },
  {
   "cell_type": "code",
   "execution_count": 22,
   "metadata": {},
   "outputs": [
    {
     "name": "stdout",
     "output_type": "stream",
     "text": [
      "  Amount Person\n",
      "0    240  alice\n",
      "1    530    bob\n",
      "2    350    jim\n",
      "3    230   mark\n"
     ]
    }
   ],
   "source": [
    "# print rows 0 through 3 of the DataFrame\n",
    "print(df[0:4])"
   ]
  },
  {
   "cell_type": "code",
   "execution_count": 23,
   "metadata": {},
   "outputs": [
    {
     "name": "stdout",
     "output_type": "stream",
     "text": [
      "  Amount Person\n",
      "0    240  alice\n",
      "4    420  alice\n",
      "6   1200  alice\n"
     ]
    }
   ],
   "source": [
    "# print only the rows that include alice\n",
    "print(df[df['Person'] == 'alice'])"
   ]
  },
  {
   "cell_type": "code",
   "execution_count": 24,
   "metadata": {},
   "outputs": [
    {
     "name": "stdout",
     "output_type": "stream",
     "text": [
      "Amount    620.0\n",
      "dtype: float64\n"
     ]
    }
   ],
   "source": [
    "# print the average of only Alice's transactions\n",
    "print(df[df['Person'] == 'alice'].mean())"
   ]
  },
  {
   "cell_type": "code",
   "execution_count": 25,
   "metadata": {},
   "outputs": [
    {
     "name": "stdout",
     "output_type": "stream",
     "text": [
      "  Amount Person\n",
      "1    530    bob\n",
      "4    420  alice\n",
      "6   1200  alice\n"
     ]
    }
   ],
   "source": [
    "# print only the rows that include transactions above 400\n",
    "print(df[df['Amount'] > 400])"
   ]
  },
  {
   "cell_type": "code",
   "execution_count": 26,
   "metadata": {},
   "outputs": [],
   "source": [
    "# export just Alice's transactions to a csv file\n",
    "# this may not work properly in a web-based python client\n",
    "df[df['Person'] == 'alice'].to_csv('alice.csv')"
   ]
  },
  {
   "cell_type": "code",
   "execution_count": null,
   "metadata": {},
   "outputs": [],
   "source": []
  }
 ],
 "metadata": {
  "kernelspec": {
   "display_name": "Python 3",
   "language": "python",
   "name": "python3"
  },
  "language_info": {
   "codemirror_mode": {
    "name": "ipython",
    "version": 3
   },
   "file_extension": ".py",
   "mimetype": "text/x-python",
   "name": "python",
   "nbconvert_exporter": "python",
   "pygments_lexer": "ipython3",
   "version": "3.7.6"
  }
 },
 "nbformat": 4,
 "nbformat_minor": 4
}
